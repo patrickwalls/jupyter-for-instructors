{
 "cells": [
  {
   "cell_type": "markdown",
   "metadata": {},
   "source": [
    "# Vancouver Police Department Crime Data"
   ]
  },
  {
   "cell_type": "code",
   "execution_count": 1,
   "metadata": {},
   "outputs": [],
   "source": [
    "import pandas as pd\n",
    "import ipywidgets"
   ]
  },
  {
   "cell_type": "markdown",
   "metadata": {},
   "source": [
    "## Import the data\n",
    "\n",
    "The [Vancouver Police Department Crime Data](https://data.vancouver.ca/datacatalogue/crime-data.htm) includes reported crimes and locations dating back to 2003. This is a large dataset therefore we'll downloaded data for 2018 only. Let's import the data with [pandas](https://pandas.pydata.org)."
   ]
  },
  {
   "cell_type": "code",
   "execution_count": 2,
   "metadata": {},
   "outputs": [],
   "source": [
    "crime = pd.read_csv('./data/crime.csv')"
   ]
  },
  {
   "cell_type": "code",
   "execution_count": 3,
   "metadata": {},
   "outputs": [
    {
     "data": {
      "text/html": [
       "<div>\n",
       "<style scoped>\n",
       "    .dataframe tbody tr th:only-of-type {\n",
       "        vertical-align: middle;\n",
       "    }\n",
       "\n",
       "    .dataframe tbody tr th {\n",
       "        vertical-align: top;\n",
       "    }\n",
       "\n",
       "    .dataframe thead th {\n",
       "        text-align: right;\n",
       "    }\n",
       "</style>\n",
       "<table border=\"1\" class=\"dataframe\">\n",
       "  <thead>\n",
       "    <tr style=\"text-align: right;\">\n",
       "      <th></th>\n",
       "      <th>TYPE</th>\n",
       "      <th>YEAR</th>\n",
       "      <th>MONTH</th>\n",
       "      <th>DAY</th>\n",
       "      <th>HOUR</th>\n",
       "      <th>MINUTE</th>\n",
       "      <th>HUNDRED_BLOCK</th>\n",
       "      <th>NEIGHBOURHOOD</th>\n",
       "      <th>X</th>\n",
       "      <th>Y</th>\n",
       "    </tr>\n",
       "  </thead>\n",
       "  <tbody>\n",
       "    <tr>\n",
       "      <th>0</th>\n",
       "      <td>Theft from Vehicle</td>\n",
       "      <td>2018</td>\n",
       "      <td>11</td>\n",
       "      <td>16</td>\n",
       "      <td>20.0</td>\n",
       "      <td>47.0</td>\n",
       "      <td>16XX W BROADWAY AVE</td>\n",
       "      <td>Fairview</td>\n",
       "      <td>489734.42</td>\n",
       "      <td>5456775.52</td>\n",
       "    </tr>\n",
       "    <tr>\n",
       "      <th>1</th>\n",
       "      <td>Break and Enter Residential/Other</td>\n",
       "      <td>2018</td>\n",
       "      <td>7</td>\n",
       "      <td>8</td>\n",
       "      <td>12.0</td>\n",
       "      <td>46.0</td>\n",
       "      <td>4XX E 17TH AVE</td>\n",
       "      <td>Riley Park</td>\n",
       "      <td>493126.48</td>\n",
       "      <td>5455878.78</td>\n",
       "    </tr>\n",
       "    <tr>\n",
       "      <th>2</th>\n",
       "      <td>Break and Enter Commercial</td>\n",
       "      <td>2018</td>\n",
       "      <td>1</td>\n",
       "      <td>14</td>\n",
       "      <td>18.0</td>\n",
       "      <td>42.0</td>\n",
       "      <td>8XX HAMILTON ST</td>\n",
       "      <td>Central Business District</td>\n",
       "      <td>491470.48</td>\n",
       "      <td>5458354.67</td>\n",
       "    </tr>\n",
       "    <tr>\n",
       "      <th>3</th>\n",
       "      <td>Theft from Vehicle</td>\n",
       "      <td>2018</td>\n",
       "      <td>4</td>\n",
       "      <td>16</td>\n",
       "      <td>8.0</td>\n",
       "      <td>25.0</td>\n",
       "      <td>22XX E 47TH AVE</td>\n",
       "      <td>Victoria-Fraserview</td>\n",
       "      <td>495519.40</td>\n",
       "      <td>5452766.38</td>\n",
       "    </tr>\n",
       "    <tr>\n",
       "      <th>4</th>\n",
       "      <td>Theft from Vehicle</td>\n",
       "      <td>2018</td>\n",
       "      <td>1</td>\n",
       "      <td>14</td>\n",
       "      <td>6.0</td>\n",
       "      <td>30.0</td>\n",
       "      <td>9XX EXPO BLVD</td>\n",
       "      <td>Central Business District</td>\n",
       "      <td>491654.33</td>\n",
       "      <td>5458113.67</td>\n",
       "    </tr>\n",
       "  </tbody>\n",
       "</table>\n",
       "</div>"
      ],
      "text/plain": [
       "                                TYPE  YEAR  MONTH  DAY  HOUR  MINUTE  \\\n",
       "0                 Theft from Vehicle  2018     11   16  20.0    47.0   \n",
       "1  Break and Enter Residential/Other  2018      7    8  12.0    46.0   \n",
       "2         Break and Enter Commercial  2018      1   14  18.0    42.0   \n",
       "3                 Theft from Vehicle  2018      4   16   8.0    25.0   \n",
       "4                 Theft from Vehicle  2018      1   14   6.0    30.0   \n",
       "\n",
       "         HUNDRED_BLOCK              NEIGHBOURHOOD          X           Y  \n",
       "0  16XX W BROADWAY AVE                   Fairview  489734.42  5456775.52  \n",
       "1       4XX E 17TH AVE                 Riley Park  493126.48  5455878.78  \n",
       "2      8XX HAMILTON ST  Central Business District  491470.48  5458354.67  \n",
       "3      22XX E 47TH AVE        Victoria-Fraserview  495519.40  5452766.38  \n",
       "4        9XX EXPO BLVD  Central Business District  491654.33  5458113.67  "
      ]
     },
     "execution_count": 3,
     "metadata": {},
     "output_type": "execute_result"
    }
   ],
   "source": [
    "crime.head()"
   ]
  },
  {
   "cell_type": "code",
   "execution_count": 4,
   "metadata": {},
   "outputs": [
    {
     "name": "stdout",
     "output_type": "stream",
     "text": [
      "<class 'pandas.core.frame.DataFrame'>\n",
      "RangeIndex: 38045 entries, 0 to 38044\n",
      "Data columns (total 10 columns):\n",
      "TYPE             38045 non-null object\n",
      "YEAR             38045 non-null int64\n",
      "MONTH            38045 non-null int64\n",
      "DAY              38045 non-null int64\n",
      "HOUR             34891 non-null float64\n",
      "MINUTE           34891 non-null float64\n",
      "HUNDRED_BLOCK    38045 non-null object\n",
      "NEIGHBOURHOOD    34801 non-null object\n",
      "X                38045 non-null float64\n",
      "Y                38045 non-null float64\n",
      "dtypes: float64(4), int64(3), object(3)\n",
      "memory usage: 2.9+ MB\n"
     ]
    }
   ],
   "source": [
    "crime.info()"
   ]
  },
  {
   "cell_type": "markdown",
   "metadata": {},
   "source": [
    "## When do crimes occur most often?"
   ]
  },
  {
   "cell_type": "code",
   "execution_count": 5,
   "metadata": {},
   "outputs": [],
   "source": [
    "crime['MONTH'].value_counts().sort_index().plot(kind='bar',\n",
    "                                                legend=False,\n",
    "                                                figsize=(12,8),\n",
    "                                                title='Reported Crimes by Month');"
   ]
  },
  {
   "cell_type": "code",
   "execution_count": 6,
   "metadata": {},
   "outputs": [
    {
     "data": {
      "image/png": "[encoded data removed]",
      "text/plain": [
       "<Figure size 864x576 with 1 Axes>"
      ]
     },
     "metadata": {
      "needs_background": "light"
     },
     "output_type": "display_data"
    }
   ],
   "source": [
    "crime['HOUR'].value_counts().sort_index().plot(kind='bar',\n",
    "                                               legend=False,\n",
    "                                               figsize=(12,8),\n",
    "                                               title='Reported Crimes by Hour of the Day');"
   ]
  },
  {
   "cell_type": "code",
   "execution_count": 7,
   "metadata": {},
   "outputs": [],
   "source": [
    "import datetime"
   ]
  },
  {
   "cell_type": "code",
   "execution_count": 8,
   "metadata": {},
   "outputs": [],
   "source": [
    "crime['WEEKDAY'] = crime.apply(lambda row: datetime.datetime(row['YEAR'],row['MONTH'],row['DAY']).weekday(),axis=1)"
   ]
  },
  {
   "cell_type": "code",
   "execution_count": 9,
   "metadata": {},
   "outputs": [
    {
     "data": {
      "image/png": "[encoded data removed]",
      "text/plain": [
       "<Figure size 864x576 with 1 Axes>"
      ]
     },
     "metadata": {
      "needs_background": "light"
     },
     "output_type": "display_data"
    }
   ],
   "source": [
    "crime['WEEKDAY'].value_counts().sort_index().plot(kind='bar',\n",
    "                                                  legend=False,\n",
    "                                                  figsize=(12,8),\n",
    "                                                  title='Reported Crimes by Day of the Week');"
   ]
  },
  {
   "cell_type": "markdown",
   "metadata": {},
   "source": [
    "## Which crimes occur most often?"
   ]
  },
  {
   "cell_type": "code",
   "execution_count": 10,
   "metadata": {},
   "outputs": [
    {
     "data": {
      "image/png": "[encoded data removed]",
      "text/plain": [
       "<Figure size 864x576 with 1 Axes>"
      ]
     },
     "metadata": {
      "needs_background": "light"
     },
     "output_type": "display_data"
    }
   ],
   "source": [
    "crime['TYPE'].value_counts().plot(kind='bar',legend=False,figsize=(12,8),title='Reported Crimes by Type');"
   ]
  },
  {
   "cell_type": "markdown",
   "metadata": {},
   "source": [
    "## Where do crimes occur?"
   ]
  },
  {
   "cell_type": "code",
   "execution_count": 11,
   "metadata": {},
   "outputs": [],
   "source": [
    "crime_types = crime['TYPE'].unique().tolist()\n",
    "crime_types.remove('Homicide')\n",
    "crime_types.append('ALL')"
   ]
  },
  {
   "cell_type": "code",
   "execution_count": 13,
   "metadata": {},
   "outputs": [
    {
     "data": {
      "application/vnd.jupyter.widget-view+json": {
       "model_id": "2af80df4dc4545528d39d2023d0e8958",
       "version_major": 2,
       "version_minor": 0
      },
      "text/plain": [
       "interactive(children=(Dropdown(description='Type:', options=('Theft from Vehicle', 'Break and Enter Residentia…"
      ]
     },
     "metadata": {},
     "output_type": "display_data"
    }
   ],
   "source": [
    "dropdown = ipywidgets.Dropdown(options=crime_types,description='Type:')\n",
    "slider = ipywidgets.IntSlider(value=10,min=5,max=50,description='Marker size:',continuous_update=False)\n",
    "\n",
    "crime_locations = crime[crime['X'] > 0]\n",
    "\n",
    "@ipywidgets.interact(crime_type=dropdown,size=slider)\n",
    "def plot_crime_map(crime_type,size):\n",
    "    if crime_type != 'ALL':\n",
    "        crimes = crime_locations[crime_locations['TYPE'] == crime_type]\n",
    "    else:\n",
    "        crimes = crime_locations\n",
    "    crimes.plot(kind='scatter',x='X',y='Y',s=size,lw=0,alpha=0.5,figsize=(14,10))"
   ]
  }
 ],
 "metadata": {
  "kernelspec": {
   "display_name": "Python 3",
   "language": "python",
   "name": "python3"
  },
  "language_info": {
   "codemirror_mode": {
    "name": "ipython",
    "version": 3
   },
   "file_extension": ".py",
   "mimetype": "text/x-python",
   "name": "python",
   "nbconvert_exporter": "python",
   "pygments_lexer": "ipython3",
   "version": "3.7.3"
  }
 },
 "nbformat": 4,
 "nbformat_minor": 2
}
