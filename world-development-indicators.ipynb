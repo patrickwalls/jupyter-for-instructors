{
 "cells": [
  {
   "cell_type": "markdown",
   "metadata": {},
   "source": [
    "# World Development Indicators from the World Bank"
   ]
  },
  {
   "cell_type": "code",
   "execution_count": 1,
   "metadata": {},
   "outputs": [],
   "source": [
    "import pandas as pd\n",
    "import ipywidgets"
   ]
  },
  {
   "cell_type": "markdown",
   "metadata": {},
   "source": [
    "## Import the Dataset"
   ]
  },
  {
   "cell_type": "markdown",
   "metadata": {},
   "source": [
    "The [World Development Indicators](https://databank.worldbank.org/source/world-development-indicators) database includes 1599 indicators for over 200 countries from 1960 to 2018. We've selected 55 indicators and saved the data in a file `worldbank_development_indicators.csv` in the `data` folder. Let's import the data with [pandas](https://pandas.pydata.org)."
   ]
  },
  {
   "cell_type": "code",
   "execution_count": 2,
   "metadata": {},
   "outputs": [],
   "source": [
    "data = pd.read_csv('./data/world-development-indicators.csv')"
   ]
  },
  {
   "cell_type": "markdown",
   "metadata": {},
   "source": [
    "The data is imported as a DataFrame object which is like a spreadsheet. Let's look at the first 5 rows of the DataFrame."
   ]
  },
  {
   "cell_type": "code",
   "execution_count": 3,
   "metadata": {},
   "outputs": [
    {
     "data": {
      "text/html": [
       "<div>\n",
       "<style scoped>\n",
       "    .dataframe tbody tr th:only-of-type {\n",
       "        vertical-align: middle;\n",
       "    }\n",
       "\n",
       "    .dataframe tbody tr th {\n",
       "        vertical-align: top;\n",
       "    }\n",
       "\n",
       "    .dataframe thead th {\n",
       "        text-align: right;\n",
       "    }\n",
       "</style>\n",
       "<table border=\"1\" class=\"dataframe\">\n",
       "  <thead>\n",
       "    <tr style=\"text-align: right;\">\n",
       "      <th></th>\n",
       "      <th>Country Name</th>\n",
       "      <th>Series Name</th>\n",
       "      <th>2009</th>\n",
       "      <th>2010</th>\n",
       "      <th>2011</th>\n",
       "      <th>2012</th>\n",
       "      <th>2013</th>\n",
       "      <th>2014</th>\n",
       "      <th>2015</th>\n",
       "      <th>2016</th>\n",
       "      <th>2017</th>\n",
       "      <th>2018</th>\n",
       "    </tr>\n",
       "  </thead>\n",
       "  <tbody>\n",
       "    <tr>\n",
       "      <th>0</th>\n",
       "      <td>Argentina</td>\n",
       "      <td>Adolescent fertility rate (births per 1,000 wo...</td>\n",
       "      <td>63.830800</td>\n",
       "      <td>63.879200</td>\n",
       "      <td>63.927600</td>\n",
       "      <td>63.976000</td>\n",
       "      <td>63.738800</td>\n",
       "      <td>63.501600</td>\n",
       "      <td>63.264400</td>\n",
       "      <td>63.027200</td>\n",
       "      <td>62.790000</td>\n",
       "      <td>NaN</td>\n",
       "    </tr>\n",
       "    <tr>\n",
       "      <th>1</th>\n",
       "      <td>Argentina</td>\n",
       "      <td>Agriculture, forestry, and fishing, value adde...</td>\n",
       "      <td>5.273623</td>\n",
       "      <td>7.132167</td>\n",
       "      <td>6.998734</td>\n",
       "      <td>5.781744</td>\n",
       "      <td>6.052918</td>\n",
       "      <td>6.712704</td>\n",
       "      <td>5.156686</td>\n",
       "      <td>6.264566</td>\n",
       "      <td>5.478382</td>\n",
       "      <td>6.140206</td>\n",
       "    </tr>\n",
       "    <tr>\n",
       "      <th>2</th>\n",
       "      <td>Argentina</td>\n",
       "      <td>Annual freshwater withdrawals, total (% of int...</td>\n",
       "      <td>NaN</td>\n",
       "      <td>NaN</td>\n",
       "      <td>NaN</td>\n",
       "      <td>12.907534</td>\n",
       "      <td>NaN</td>\n",
       "      <td>12.907534</td>\n",
       "      <td>NaN</td>\n",
       "      <td>NaN</td>\n",
       "      <td>NaN</td>\n",
       "      <td>NaN</td>\n",
       "    </tr>\n",
       "    <tr>\n",
       "      <th>3</th>\n",
       "      <td>Argentina</td>\n",
       "      <td>Births attended by skilled health staff (% of ...</td>\n",
       "      <td>97.900000</td>\n",
       "      <td>94.970000</td>\n",
       "      <td>97.140000</td>\n",
       "      <td>98.200000</td>\n",
       "      <td>97.040000</td>\n",
       "      <td>99.600000</td>\n",
       "      <td>99.600000</td>\n",
       "      <td>NaN</td>\n",
       "      <td>NaN</td>\n",
       "      <td>NaN</td>\n",
       "    </tr>\n",
       "    <tr>\n",
       "      <th>4</th>\n",
       "      <td>Argentina</td>\n",
       "      <td>CO2 emissions (metric tons per capita)</td>\n",
       "      <td>4.445388</td>\n",
       "      <td>4.607164</td>\n",
       "      <td>4.644373</td>\n",
       "      <td>4.609180</td>\n",
       "      <td>4.498540</td>\n",
       "      <td>4.781508</td>\n",
       "      <td>NaN</td>\n",
       "      <td>NaN</td>\n",
       "      <td>NaN</td>\n",
       "      <td>NaN</td>\n",
       "    </tr>\n",
       "  </tbody>\n",
       "</table>\n",
       "</div>"
      ],
      "text/plain": [
       "  Country Name                                        Series Name       2009  \\\n",
       "0    Argentina  Adolescent fertility rate (births per 1,000 wo...  63.830800   \n",
       "1    Argentina  Agriculture, forestry, and fishing, value adde...   5.273623   \n",
       "2    Argentina  Annual freshwater withdrawals, total (% of int...        NaN   \n",
       "3    Argentina  Births attended by skilled health staff (% of ...  97.900000   \n",
       "4    Argentina             CO2 emissions (metric tons per capita)   4.445388   \n",
       "\n",
       "        2010       2011       2012       2013       2014       2015  \\\n",
       "0  63.879200  63.927600  63.976000  63.738800  63.501600  63.264400   \n",
       "1   7.132167   6.998734   5.781744   6.052918   6.712704   5.156686   \n",
       "2        NaN        NaN  12.907534        NaN  12.907534        NaN   \n",
       "3  94.970000  97.140000  98.200000  97.040000  99.600000  99.600000   \n",
       "4   4.607164   4.644373   4.609180   4.498540   4.781508        NaN   \n",
       "\n",
       "        2016       2017      2018  \n",
       "0  63.027200  62.790000       NaN  \n",
       "1   6.264566   5.478382  6.140206  \n",
       "2        NaN        NaN       NaN  \n",
       "3        NaN        NaN       NaN  \n",
       "4        NaN        NaN       NaN  "
      ]
     },
     "execution_count": 3,
     "metadata": {},
     "output_type": "execute_result"
    }
   ],
   "source": [
    "data.head()"
   ]
  },
  {
   "cell_type": "markdown",
   "metadata": {},
   "source": [
    "Use the `.info()` method get an overview of the DataFrame."
   ]
  },
  {
   "cell_type": "code",
   "execution_count": 4,
   "metadata": {},
   "outputs": [
    {
     "name": "stdout",
     "output_type": "stream",
     "text": [
      "<class 'pandas.core.frame.DataFrame'>\n",
      "RangeIndex: 11935 entries, 0 to 11934\n",
      "Data columns (total 12 columns):\n",
      "Country Name    11935 non-null object\n",
      "Series Name     11935 non-null object\n",
      "2009            8587 non-null float64\n",
      "2010            8647 non-null float64\n",
      "2011            8618 non-null float64\n",
      "2012            8914 non-null float64\n",
      "2013            8580 non-null float64\n",
      "2014            8695 non-null float64\n",
      "2015            8083 non-null float64\n",
      "2016            8115 non-null float64\n",
      "2017            7657 non-null float64\n",
      "2018            4380 non-null float64\n",
      "dtypes: float64(10), object(2)\n",
      "memory usage: 1.1+ MB\n"
     ]
    }
   ],
   "source": [
    "data.info()"
   ]
  },
  {
   "cell_type": "markdown",
   "metadata": {},
   "source": [
    "There are nearly 12,000 rows of data but it looks like there are many missing values."
   ]
  },
  {
   "cell_type": "markdown",
   "metadata": {},
   "source": [
    "## Indicators and Countries\n",
    "\n",
    "Let's verify that there are 55 distinct entries in the series column."
   ]
  },
  {
   "cell_type": "code",
   "execution_count": 5,
   "metadata": {},
   "outputs": [],
   "source": [
    "indicators = data['Series Name'].unique().tolist()"
   ]
  },
  {
   "cell_type": "code",
   "execution_count": 6,
   "metadata": {},
   "outputs": [
    {
     "data": {
      "text/plain": [
       "55"
      ]
     },
     "execution_count": 6,
     "metadata": {},
     "output_type": "execute_result"
    }
   ],
   "source": [
    "len(indicators)"
   ]
  },
  {
   "cell_type": "markdown",
   "metadata": {},
   "source": [
    "Let's look at the first 10 in the list of indicators."
   ]
  },
  {
   "cell_type": "code",
   "execution_count": 7,
   "metadata": {},
   "outputs": [
    {
     "data": {
      "text/plain": [
       "['Adolescent fertility rate (births per 1,000 women ages 15-19)',\n",
       " 'Agriculture, forestry, and fishing, value added (% of GDP)',\n",
       " 'Annual freshwater withdrawals, total (% of internal resources)',\n",
       " 'Births attended by skilled health staff (% of total)',\n",
       " 'CO2 emissions (metric tons per capita)',\n",
       " 'Contraceptive prevalence, any methods (% of women ages 15-49)',\n",
       " 'Domestic credit provided by financial sector (% of GDP)',\n",
       " 'Electric power consumption (kWh per capita)',\n",
       " 'Energy use (kg of oil equivalent per capita)',\n",
       " 'Exports of goods and services (% of GDP)']"
      ]
     },
     "execution_count": 7,
     "metadata": {},
     "output_type": "execute_result"
    }
   ],
   "source": [
    "indicators[:10]"
   ]
  },
  {
   "cell_type": "markdown",
   "metadata": {},
   "source": [
    "Let's see how many different countries are in the dataset."
   ]
  },
  {
   "cell_type": "code",
   "execution_count": 8,
   "metadata": {},
   "outputs": [],
   "source": [
    "countries = data['Country Name'].unique().tolist()"
   ]
  },
  {
   "cell_type": "code",
   "execution_count": 9,
   "metadata": {},
   "outputs": [
    {
     "data": {
      "text/plain": [
       "217"
      ]
     },
     "execution_count": 9,
     "metadata": {},
     "output_type": "execute_result"
    }
   ],
   "source": [
    "len(countries)"
   ]
  },
  {
   "cell_type": "code",
   "execution_count": 10,
   "metadata": {
    "scrolled": true
   },
   "outputs": [
    {
     "data": {
      "text/plain": [
       "['Argentina',\n",
       " 'Australia',\n",
       " 'Brazil',\n",
       " 'China',\n",
       " 'France',\n",
       " 'Germany',\n",
       " 'India',\n",
       " 'Indonesia',\n",
       " 'Italy',\n",
       " 'Japan']"
      ]
     },
     "execution_count": 10,
     "metadata": {},
     "output_type": "execute_result"
    }
   ],
   "source": [
    "countries[:10]"
   ]
  },
  {
   "cell_type": "markdown",
   "metadata": {},
   "source": [
    "## Country Comparisons\n",
    "\n",
    "Let's use [ipywidgets](https://ipywidgets.readthedocs.io) to create an interactive graphic which compares countries for a given indicator over time indicators over time."
   ]
  },
  {
   "cell_type": "code",
   "execution_count": 13,
   "metadata": {},
   "outputs": [
    {
     "data": {
      "application/vnd.jupyter.widget-view+json": {
       "model_id": "4ad0c59cc0ca45bfb6e307c307a4fdf8",
       "version_major": 2,
       "version_minor": 0
      },
      "text/plain": [
       "interactive(children=(Dropdown(description='Country 1:', index=6, options=('Argentina', 'Australia', 'Brazil',…"
      ]
     },
     "metadata": {},
     "output_type": "display_data"
    }
   ],
   "source": [
    "dropdown1 = ipywidgets.Dropdown(options=countries,description='Country 1:',value='India')\n",
    "dropdown2 = ipywidgets.Dropdown(options=countries,description='Country 2:',value='China')\n",
    "dropdown3 = ipywidgets.Dropdown(options=indicators,description='Indicator:',value='Population, total')\n",
    "\n",
    "@ipywidgets.interact(country1=dropdown1,country2=dropdown2,indicator=dropdown3)\n",
    "def compare(country1,country2,indicator):\n",
    "    df1 = data[(data['Country Name'] == country1) & (data['Series Name'] == indicator)].loc[:,'2009':'2018'].transpose()\n",
    "    df2 = data[(data['Country Name'] == country2) & (data['Series Name'] == indicator)].loc[:,'2009':'2018'].transpose()\n",
    "    df = df1.merge(df2,left_index=True,right_index=True)\n",
    "    df.columns = [country1,country2]\n",
    "    df.plot(marker='o',figsize=(12,8))"
   ]
  },
  {
   "cell_type": "markdown",
   "metadata": {},
   "source": [
    "## Correlations among Indicators"
   ]
  },
  {
   "cell_type": "code",
   "execution_count": 12,
   "metadata": {
    "scrolled": false
   },
   "outputs": [
    {
     "data": {
      "application/vnd.jupyter.widget-view+json": {
       "model_id": "716d613272054d04b1786b8612654126",
       "version_major": 2,
       "version_minor": 0
      },
      "text/plain": [
       "interactive(children=(Dropdown(description='Indicator 1:', index=8, options=('Adolescent fertility rate (birth…"
      ]
     },
     "metadata": {},
     "output_type": "display_data"
    }
   ],
   "source": [
    "dropdown1 = ipywidgets.Dropdown(options=indicators,description='Indicator 1:',value='Energy use (kg of oil equivalent per capita)')\n",
    "dropdown2 = ipywidgets.Dropdown(options=indicators,description='Indicator 2:',value='CO2 emissions (metric tons per capita)')\n",
    "dropdown3 = ipywidgets.Dropdown(options=list(range(2009,2019)),description='Year:',value=2014)\n",
    "\n",
    "@ipywidgets.interact(indicator1=dropdown1,indicator2=dropdown2,year=dropdown3)\n",
    "def compare(indicator1,indicator2,year):\n",
    "    df = data.groupby(['Country Name','Series Name']).first().loc[:,str(year)].unstack()\n",
    "    df.plot(kind='scatter',x=indicator1,y=indicator2,figsize=(12,8),grid=True)"
   ]
  }
 ],
 "metadata": {
  "kernelspec": {
   "display_name": "Python 3",
   "language": "python",
   "name": "python3"
  },
  "language_info": {
   "codemirror_mode": {
    "name": "ipython",
    "version": 3
   },
   "file_extension": ".py",
   "mimetype": "text/x-python",
   "name": "python",
   "nbconvert_exporter": "python",
   "pygments_lexer": "ipython3",
   "version": "3.7.3"
  }
 },
 "nbformat": 4,
 "nbformat_minor": 2
}
