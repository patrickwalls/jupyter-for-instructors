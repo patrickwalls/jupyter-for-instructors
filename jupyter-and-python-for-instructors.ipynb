{
 "cells": [
  {
   "cell_type": "markdown",
   "metadata": {},
   "source": [
    "# Jupyter and Python for Instructors"
   ]
  },
  {
   "cell_type": "markdown",
   "metadata": {},
   "source": [
    "## Outline\n",
    "\n",
    "* A Tour of [Jupyter](#Jupyter)\n",
    "* Basic [Python](#Python) Programming\n",
    "* [SciPy](#SciPy): Python Packges for Scientific Computing"
   ]
  },
  {
   "cell_type": "markdown",
   "metadata": {},
   "source": [
    "## Jupyter\n",
    "\n",
    "We present the basic features of Jupyter notebooks. Please see the [Jupyter documentation](http://jupyter.org/)."
   ]
  },
  {
   "cell_type": "markdown",
   "metadata": {},
   "source": [
    "### Cells, modes and keyboard shortcuts\n",
    "\n",
    "#### Code cells and markdown cells\n",
    "\n",
    "There are two main types of cells: code and markdown. All text, headings, lists, LaTeX, images and other HTML in the notebook are written in markdown cells.\n",
    "\n",
    "Code is written in code cells and, since this notebook is a Python 3 notebook, the Python code we write in code cells is executed by the Python kernel and output is displayed below the code cell:"
   ]
  },
  {
   "cell_type": "code",
   "execution_count": 1,
   "metadata": {},
   "outputs": [
    {
     "data": {
      "text/plain": [
       "0.30000000000000004"
      ]
     },
     "execution_count": 1,
     "metadata": {},
     "output_type": "execute_result"
    }
   ],
   "source": [
    "0.1 + 0.2"
   ]
  },
  {
   "cell_type": "markdown",
   "metadata": {},
   "source": [
    "#### Edit mode and command mode\n",
    "\n",
    "Command Mode is for notebook editing commands: cut cell, paste cell, insert cell above, etc. Command mode is indicated by a *blue* rectangle containing the active cell.\n",
    "\n",
    "Edit Mode is for editing code/text and is indicated by a *green* rectangle. "
   ]
  },
  {
   "cell_type": "markdown",
   "metadata": {},
   "source": [
    "#### Keyboard shortcuts\n",
    "\n",
    "The tool bar has buttons for the common actions however you can increase the speed of your workflow by memorizing the following keyboard shortcuts in Command Mode:\n",
    "\n",
    "| Command Mode Action | Shortcut |\n",
    "| :---: | :---: |\n",
    "| Insert empty cell above | `a` |\n",
    "| Insert empty cell below | `b` |\n",
    "| Copy cell | `c` |\n",
    "| Cut cell | `x` |\n",
    "| Paste cell below | `v` |\n",
    "| To code | `y` |\n",
    "| To markdown | `m` |\n",
    "| Save and checkpoint | `s` |\n",
    "| Execute cell | `shift+return` |\n",
    "| Enter edit mode | `return` |\n",
    "\n",
    "The usual keyboard shortcuts for text editing (ie. on a Mac: `command+x` to cut text, `command+z` to undo, etc.) work in Edit Mode as well as the following most actions:\n",
    "\n",
    "| Edit Mode Action | Shortcut |\n",
    "| :---: | :---: |\n",
    "| Execute cell | `shift+return` |\n",
    "| Enter command mode | `esc` |"
   ]
  },
  {
   "cell_type": "markdown",
   "metadata": {
    "collapsed": true
   },
   "source": [
    "### Markdown\n",
    "\n",
    "[Markdown](https://daringfireball.net/projects/markdown/syntax) is a plain text formatting syntax which the Jupyter notebook converts and renders as HTML.\n",
    "\n",
    "#### Text\n",
    "\n",
    "The following table summarizes text formatting and headings:\n",
    "\n",
    "| Output | Syntax |\n",
    "| :---: | :---: |\n",
    "| *emphasis* | `*emphasis*` |\n",
    "| **strong** | `**strong**` |\n",
    "| `code` | ``  `code` `` |\n",
    "| <h1>Heading 1</h1> | `# Heading 1` |\n",
    "| <h2>Heading 2</h2> | `## Heading 2` |\n",
    "| <h3>Heading 3</h3> | `### Heading 3` |\n",
    "\n",
    "#### Links\n",
    "\n",
    "Create a [link](http://www.math.ubc.ca) with the syntax `[link](http://www.math.ubc.ca)`.\n",
    "\n",
    "#### Lists\n",
    "\n",
    "Create a list using an asterisk * for each item. For example:\n",
    "\n",
    "```\n",
    "* Number theory\n",
    "* Algebra\n",
    "* Partial differential equations\n",
    "* Probability\n",
    "```\n",
    "\n",
    "renders as:\n",
    "\n",
    "* Number theory\n",
    "* Algebra\n",
    "* Partial differential equations\n",
    "* Probability\n",
    "\n",
    "#### Images\n",
    "\n",
    "Include an image using the syntax `![description](url)`. For example:\n",
    "\n",
    "```\n",
    "![Jupyter logo](http://jupyter.org/assets/nav_logo.svg)\n",
    "```\n",
    "\n",
    "renders as:\n",
    "\n",
    "![Jupyter logo](http://jupyter.org/assets/nav_logo.svg)"
   ]
  },
  {
   "cell_type": "markdown",
   "metadata": {},
   "source": [
    "#### Tables\n",
    "\n",
    "Create a table by separating entries by pipe characters |. For example:\n",
    "\n",
    "```\n",
    "| Operator | Description  |\n",
    "| :---: | :---: |\n",
    "| `+` | addition |\n",
    "| `-` | subtraction |\n",
    "| `*` | multiplication |\n",
    "| `/` | division |\n",
    "| `%` | remainder (or modulo) |\n",
    "| `//` | floor division |\n",
    "| `**` | power |\n",
    "```\n",
    "\n",
    "renders as:\n",
    "\n",
    "\n",
    "| Operator | Description  |\n",
    "| :---: | :---: |\n",
    "| `+` | addition |\n",
    "| `-` | subtraction |\n",
    "| `*` | multiplication |\n",
    "| `/` | division |\n",
    "| `%` | remainder (or modulo) |\n",
    "| `//` | floor division |\n",
    "| `**` | power |\n",
    "\n",
    "The second line specifies the alignment of the columns. See more about [GitHub flavoured markdown](https://help.github.com/articles/organizing-information-with-tables/)."
   ]
  },
  {
   "cell_type": "markdown",
   "metadata": {},
   "source": [
    "### LaTeX: mathematical notation\n",
    "\n",
    "LaTeX code (in math mode) written in a markdown cell is automatically rendered by [MathJax](https://www.mathjax.org/). For example:\n",
    "\n",
    "```\n",
    "$$\n",
    "f'(a) = \\lim_{x \\to a} \\frac{f(x) - f(a)}{x - a}\n",
    "$$\n",
    "```\n",
    "\n",
    "renders as:\n",
    "\n",
    "$$\n",
    "f'(a) = \\lim_{x \\to a} \\frac{f(x) - f(a)}{x - a}\n",
    "$$\n"
   ]
  },
  {
   "cell_type": "markdown",
   "metadata": {},
   "source": [
    "## Python\n",
    "\n",
    "We present basics features of the Python programming language. Please see the [Python 3 documentation](https://docs.python.org/3/)."
   ]
  },
  {
   "cell_type": "markdown",
   "metadata": {},
   "source": [
    "### Datatypes and built-in functions"
   ]
  },
  {
   "cell_type": "markdown",
   "metadata": {},
   "source": [
    "#### Numbers: integers and floats\n",
    "\n",
    "The most commonly used [numeric types](https://docs.python.org/3/library/stdtypes.html#numeric-types-int-float-complex) are integers and floats and the syntax for arthmetic operations are:\n",
    "\n",
    "| Operator | Description  |\n",
    "| :---: | :---: |\n",
    "| `+` | addition |\n",
    "| `-` | subtraction |\n",
    "| `*` | multiplication |\n",
    "| `/` | division |\n",
    "| `%` | remainder (or modulo) |\n",
    "| `//` | floor division |\n",
    "| `**` | power |\n",
    "\n",
    "Notice that division always returns a float:"
   ]
  },
  {
   "cell_type": "code",
   "execution_count": 2,
   "metadata": {},
   "outputs": [
    {
     "data": {
      "text/plain": [
       "1.3333333333333333"
      ]
     },
     "execution_count": 2,
     "metadata": {},
     "output_type": "execute_result"
    }
   ],
   "source": [
    "4/3"
   ]
  },
  {
   "cell_type": "code",
   "execution_count": 3,
   "metadata": {},
   "outputs": [
    {
     "data": {
      "text/plain": [
       "2.0"
      ]
     },
     "execution_count": 3,
     "metadata": {},
     "output_type": "execute_result"
    }
   ],
   "source": [
    "4/2"
   ]
  },
  {
   "cell_type": "markdown",
   "metadata": {},
   "source": [
    "We can compute fractional powers using floats:"
   ]
  },
  {
   "cell_type": "code",
   "execution_count": 4,
   "metadata": {},
   "outputs": [
    {
     "data": {
      "text/plain": [
       "1.4142135623730951"
      ]
     },
     "execution_count": 4,
     "metadata": {},
     "output_type": "execute_result"
    }
   ],
   "source": [
    "2**0.5"
   ]
  },
  {
   "cell_type": "markdown",
   "metadata": {},
   "source": [
    "Use parentheses to group combinations of arithmetic operations:"
   ]
  },
  {
   "cell_type": "code",
   "execution_count": 5,
   "metadata": {},
   "outputs": [
    {
     "data": {
      "text/plain": [
       "33"
      ]
     },
     "execution_count": 5,
     "metadata": {},
     "output_type": "execute_result"
    }
   ],
   "source": [
    "5 * (4 + 3) - 2"
   ]
  },
  {
   "cell_type": "markdown",
   "metadata": {},
   "source": [
    "#### Sequences: list, tuple, range\n",
    "\n",
    "The most commonly used [sequence types](https://docs.python.org/3/library/stdtypes.html#sequence-types-list-tuple-range) are lists, tuples and range objects. Lists are mutable whereas tuples and ranges are immutable. More importantly, range objects always take the same amount of (small) memory and calculate items only when needed. Looking ahead, this is why range objects are used in `for` loops.\n",
    "\n"
   ]
  },
  {
   "cell_type": "markdown",
   "metadata": {},
   "source": [
    "Create a list using brackets `[a,b,...]` with items separated by commas (and use the built-in print function to display it):"
   ]
  },
  {
   "cell_type": "code",
   "execution_count": 9,
   "metadata": {},
   "outputs": [
    {
     "name": "stdout",
     "output_type": "stream",
     "text": [
      "[1, 4, 9, 16, 25]\n"
     ]
    }
   ],
   "source": [
    "my_list = [1,4,9,16,25]\n",
    "print(my_list)"
   ]
  },
  {
   "cell_type": "markdown",
   "metadata": {},
   "source": [
    "Lists are mutable and we can modify a list using [list methods](https://docs.python.org/3/tutorial/datastructures.html#more-on-lists) such as `append`: "
   ]
  },
  {
   "cell_type": "code",
   "execution_count": 10,
   "metadata": {},
   "outputs": [
    {
     "name": "stdout",
     "output_type": "stream",
     "text": [
      "[1, 4, 9, 16, 25, 36]\n"
     ]
    }
   ],
   "source": [
    "my_list.append(36)\n",
    "print(my_list)"
   ]
  },
  {
   "cell_type": "markdown",
   "metadata": {},
   "source": [
    "Create a tuple with parentheses `(a,b,...)`:"
   ]
  },
  {
   "cell_type": "code",
   "execution_count": 11,
   "metadata": {},
   "outputs": [
    {
     "name": "stdout",
     "output_type": "stream",
     "text": [
      "(3.1, 3.14, 3.141, 3.1415)\n"
     ]
    }
   ],
   "source": [
    "my_tuple = (3.1,3.14,3.141,3.1415)\n",
    "print(my_tuple)"
   ]
  },
  {
   "cell_type": "markdown",
   "metadata": {},
   "source": [
    "Create a range with the built-in function `range(a,b,step)`. The parameters are integers and the fucntion creates a object which representes the sequence of integers from `a` to `b` (exclusively) incremented by `step`. "
   ]
  },
  {
   "cell_type": "code",
   "execution_count": 12,
   "metadata": {},
   "outputs": [
    {
     "name": "stdout",
     "output_type": "stream",
     "text": [
      "range(0, 10, 2)\n"
     ]
    }
   ],
   "source": [
    "my_range = range(0,10,2)\n",
    "print(my_range)"
   ]
  },
  {
   "cell_type": "markdown",
   "metadata": {},
   "source": [
    "Recall, a range object only calculates its items as needed. Use the built-in function `list` to create the corresponding list:"
   ]
  },
  {
   "cell_type": "code",
   "execution_count": 13,
   "metadata": {},
   "outputs": [
    {
     "data": {
      "text/plain": [
       "[0, 2, 4, 6, 8]"
      ]
     },
     "execution_count": 13,
     "metadata": {},
     "output_type": "execute_result"
    }
   ],
   "source": [
    "list(my_range)"
   ]
  },
  {
   "cell_type": "markdown",
   "metadata": {},
   "source": [
    "#### Strings\n",
    "\n",
    "[Strings](https://docs.python.org/3/library/stdtypes.html#text-sequence-type-str) are defined using (single or double) quotes:"
   ]
  },
  {
   "cell_type": "code",
   "execution_count": 14,
   "metadata": {},
   "outputs": [
    {
     "name": "stdout",
     "output_type": "stream",
     "text": [
      "Ramanujan\n"
     ]
    }
   ],
   "source": [
    "mathematician = 'Ramanujan'\n",
    "print(mathematician)"
   ]
  },
  {
   "cell_type": "markdown",
   "metadata": {},
   "source": [
    "#### Boolean\n",
    "\n",
    "[Boolean](https://docs.python.org/3/library/stdtypes.html#truth-value-testing) values are `True` and `False` and the comparison operators are:\n",
    "\n",
    "| Comparison Operator | Description  |\n",
    "| :---: | :---: |\n",
    "| `<` | strictly less than |\n",
    "| `<=` | less than or equal |\n",
    "| `>` | strictly greater than |\n",
    "| `>=` | greater than or equal |\n",
    "| `==` | equal |\n",
    "| `!=` | not equal |\n",
    "| `is` | object identity |\n",
    "| `is not` | negated object identity |\n",
    "\n",
    "The boolean operators are:\n",
    "\n",
    "| Boolean Operator |\n",
    "| :---: |\n",
    "| `A and B` |\n",
    "| `A or B` |\n",
    "| `not A` |\n",
    "\n",
    "Use parentheses to group combinations of operators:"
   ]
  },
  {
   "cell_type": "code",
   "execution_count": 15,
   "metadata": {},
   "outputs": [
    {
     "data": {
      "text/plain": [
       "True"
      ]
     },
     "execution_count": 15,
     "metadata": {},
     "output_type": "execute_result"
    }
   ],
   "source": [
    "(1 < 2) and (3 != 5)"
   ]
  },
  {
   "cell_type": "markdown",
   "metadata": {},
   "source": [
    "#### Built-in functions\n",
    "\n",
    "The standard library has a collection of [built-in functions](https://docs.python.org/3/library/functions.html) and some of the most commonly used mathematical functions are:\n",
    "\n",
    "| Function | Description |\n",
    "| :---: | :---: |\n",
    "| `abs()` | absolute value |\n",
    "| `len()` | length |\n",
    "| `max()` | maximum |\n",
    "| `min()` | minimum |\n",
    "| `print()` | print object to output |\n",
    "| `round()` | round to nearest integer |\n",
    "| `sum()` | add elements in a sequence |\n",
    "\n",
    "For example, we compute a simple sum $1+2+3+4+5$:"
   ]
  },
  {
   "cell_type": "code",
   "execution_count": 16,
   "metadata": {},
   "outputs": [
    {
     "data": {
      "text/plain": [
       "15"
      ]
     },
     "execution_count": 16,
     "metadata": {},
     "output_type": "execute_result"
    }
   ],
   "source": [
    "sum([1,2,3,4,5])"
   ]
  },
  {
   "cell_type": "markdown",
   "metadata": {},
   "source": [
    "#### List comprehensions\n",
    "\n",
    "Python has a beautiful syntax for creating lists called [list comprehensions](https://docs.python.org/3/tutorial/datastructures.html#list-comprehensions). The syntax is:\n",
    "\n",
    "```\n",
    "[expression for item in iterable]\n",
    "```\n",
    "\n",
    "such that:\n",
    "\n",
    "* `iterable` is a range, list, tuple, or any sequence object\n",
    "* `item` is a variable which takes each value in the iterable\n",
    "* `expression` is a Python expression which is calculated for each value of `item`\n",
    "\n",
    "For example, create the list of squares $1, 4, 9, \\dots, 100$:  "
   ]
  },
  {
   "cell_type": "code",
   "execution_count": 17,
   "metadata": {},
   "outputs": [
    {
     "data": {
      "text/plain": [
       "[1, 4, 9, 16, 25, 36, 49, 64, 81, 100]"
      ]
     },
     "execution_count": 17,
     "metadata": {},
     "output_type": "execute_result"
    }
   ],
   "source": [
    "[n**2 for n in range(1,11)]"
   ]
  },
  {
   "cell_type": "markdown",
   "metadata": {},
   "source": [
    "Create the repeated list $0,1,2,0,1,2,0,1,2,\\dots$ of length 21 (using remainder operator `%`):"
   ]
  },
  {
   "cell_type": "code",
   "execution_count": 18,
   "metadata": {},
   "outputs": [
    {
     "data": {
      "text/plain": [
       "[0, 1, 2, 0, 1, 2, 0, 1, 2, 0, 1, 2, 0, 1, 2, 0, 1, 2, 0, 1, 2]"
      ]
     },
     "execution_count": 18,
     "metadata": {},
     "output_type": "execute_result"
    }
   ],
   "source": [
    "[n%3 for n in range(0,21)]"
   ]
  },
  {
   "cell_type": "markdown",
   "metadata": {},
   "source": [
    "### Logic, loops and functions\n",
    "\n",
    "#### if statements\n",
    "\n",
    "The following example illustrates an [if statement](https://docs.python.org/3/tutorial/controlflow.html#if-statements):"
   ]
  },
  {
   "cell_type": "code",
   "execution_count": 21,
   "metadata": {},
   "outputs": [
    {
     "name": "stdout",
     "output_type": "stream",
     "text": [
      "Polynomial has two real distinct roots.\n"
     ]
    }
   ],
   "source": [
    "# Variables a, b and c represent the coefficients of the quadratic polynomial\n",
    "# a*x**2 + b*x + c\n",
    "a = 2\n",
    "b = 5\n",
    "c = -3\n",
    "discriminant = b**2 - 4*a*c\n",
    "\n",
    "if discriminant > 0:\n",
    "    print('Polynomial has two real distinct roots.')\n",
    "elif discriminant < 0:\n",
    "    print('Polynomial has two complex roots.')\n",
    "else:\n",
    "    print('Polynomial has one real repeated root.')"
   ]
  },
  {
   "cell_type": "markdown",
   "metadata": {},
   "source": [
    "Notice a few important points:\n",
    "\n",
    "* keywords `if`, `elif` (optional) and `else` (optional)\n",
    "* colon : at end of each clause\n",
    "* blocks are indented standard 4 spaces"
   ]
  },
  {
   "cell_type": "markdown",
   "metadata": {},
   "source": [
    "#### Loops\n",
    "\n",
    "The following example illustrates a [for loop](https://docs.python.org/3/tutorial/controlflow.html#for-statements):"
   ]
  },
  {
   "cell_type": "code",
   "execution_count": 22,
   "metadata": {},
   "outputs": [
    {
     "name": "stdout",
     "output_type": "stream",
     "text": [
      "1 is odd\n",
      "2 is even\n",
      "3 is odd\n",
      "4 is even\n",
      "5 is odd\n",
      "6 is even\n",
      "7 is odd\n",
      "8 is even\n",
      "9 is odd\n",
      "Done!\n"
     ]
    }
   ],
   "source": [
    "for d in range(1,10):\n",
    "    if d % 2 == 0:\n",
    "        print(d,'is even')\n",
    "    else:\n",
    "        print(d,'is odd')\n",
    "print('Done!')"
   ]
  },
  {
   "cell_type": "markdown",
   "metadata": {},
   "source": [
    "Notice a few important points:\n",
    "\n",
    "* `iterable` is any sequence-like object\n",
    "* `item` takes each value in the iterable and executes the 4 lines in the block\n",
    "* the body of the for loop is indented 4 spaces and each block in the if statement is indented an additional 4 spaces."
   ]
  },
  {
   "cell_type": "markdown",
   "metadata": {},
   "source": [
    "The following example illustrates a [while loop](https://docs.python.org/3/tutorial/introduction.html#first-steps-towards-programming):"
   ]
  },
  {
   "cell_type": "code",
   "execution_count": 23,
   "metadata": {},
   "outputs": [
    {
     "name": "stdout",
     "output_type": "stream",
     "text": [
      "5\n",
      "4\n",
      "3\n",
      "2\n",
      "1\n"
     ]
    }
   ],
   "source": [
    "n = 5\n",
    "while n > 0:\n",
    "    print(n)\n",
    "    n = n - 1"
   ]
  },
  {
   "cell_type": "markdown",
   "metadata": {},
   "source": [
    "#### Functions\n",
    "\n",
    "The following example illustrates a [function definition](https://docs.python.org/3/tutorial/controlflow.html#defining-functions):"
   ]
  },
  {
   "cell_type": "code",
   "execution_count": 24,
   "metadata": {
    "collapsed": true
   },
   "outputs": [],
   "source": [
    "def average(x):\n",
    "    \"Compute the average of the values in x.\"\n",
    "    total = sum(x)\n",
    "    number = len(x)\n",
    "    return total / number"
   ]
  },
  {
   "cell_type": "markdown",
   "metadata": {},
   "source": [
    "Let's test our function:"
   ]
  },
  {
   "cell_type": "code",
   "execution_count": 25,
   "metadata": {},
   "outputs": [
    {
     "data": {
      "text/plain": [
       "2.5"
      ]
     },
     "execution_count": 25,
     "metadata": {},
     "output_type": "execute_result"
    }
   ],
   "source": [
    "average([1,2,3,4])"
   ]
  },
  {
   "cell_type": "markdown",
   "metadata": {},
   "source": [
    "Notice a few important points:\n",
    "\n",
    "* keyword `def` followed by the function name and parameter(s)\n",
    "* first line ends with a colon\n",
    "* body of the function is indented 4 spaces\n",
    "* line after `def` statement is a the documentation string\n",
    "* keyword `return` (optional) specifies the return value"
   ]
  },
  {
   "cell_type": "markdown",
   "metadata": {},
   "source": [
    "### Packages and modules\n",
    "\n",
    "A [module](https://docs.python.org/3/tutorial/modules.html) is simply a file containing Python code which defines variables, functions and classes, and a [package](https://docs.python.org/3/tutorial/modules.html#packages) is a collection of modules.\n",
    "\n",
    "Use the keyword [import](https://docs.python.org/3/tutorial/modules.html#more-on-modules) to import a module or packages into your Python environment. We access variables, functions, classes, etc. from a module or package using the dot notation.\n",
    "\n",
    "For example, let's import the [math module](https://docs.python.org/3/library/math.html) and do some calculations with the variable `math.pi` and the functions `math.sin` and `math.cos`:"
   ]
  },
  {
   "cell_type": "code",
   "execution_count": 29,
   "metadata": {
    "collapsed": true
   },
   "outputs": [],
   "source": [
    "import math"
   ]
  },
  {
   "cell_type": "code",
   "execution_count": 30,
   "metadata": {},
   "outputs": [
    {
     "data": {
      "text/plain": [
       "3.141592653589793"
      ]
     },
     "execution_count": 30,
     "metadata": {},
     "output_type": "execute_result"
    }
   ],
   "source": [
    "math.pi"
   ]
  },
  {
   "cell_type": "code",
   "execution_count": 31,
   "metadata": {},
   "outputs": [
    {
     "data": {
      "text/plain": [
       "1.0"
      ]
     },
     "execution_count": 31,
     "metadata": {},
     "output_type": "execute_result"
    }
   ],
   "source": [
    "math.cos(0)"
   ]
  },
  {
   "cell_type": "code",
   "execution_count": 32,
   "metadata": {},
   "outputs": [
    {
     "data": {
      "text/plain": [
       "1.0"
      ]
     },
     "execution_count": 32,
     "metadata": {},
     "output_type": "execute_result"
    }
   ],
   "source": [
    "math.sin(math.pi/2)"
   ]
  },
  {
   "cell_type": "markdown",
   "metadata": {},
   "source": [
    "## SciPy\n",
    "\n",
    "[SciPy](https://scipy.org) is a collection of Python packages for scientific computing."
   ]
  },
  {
   "cell_type": "markdown",
   "metadata": {},
   "source": [
    "### NumPy and Matplotlib\n",
    "\n",
    "[NumPy](http://www.numpy.org/) is the core numerical computing package in Python and [matplotlib](http://matplotlib.org/) is a 2D plotting library built on NumPy. Let's begin by importing them:"
   ]
  },
  {
   "cell_type": "code",
   "execution_count": 33,
   "metadata": {
    "collapsed": true
   },
   "outputs": [],
   "source": [
    "import numpy as np\n",
    "import matplotlib.pyplot as plt\n",
    "%matplotlib inline"
   ]
  },
  {
   "cell_type": "markdown",
   "metadata": {},
   "source": [
    "The third line is a Jupyter magic and is required to display matplotlib figures in the notebook."
   ]
  },
  {
   "cell_type": "markdown",
   "metadata": {},
   "source": [
    "#### NumPy arrays\n",
    "\n",
    "The most common methods to create a [NumPy array](https://docs.scipy.org/doc/numpy-dev/user/quickstart.html#the-basics) are:\n",
    "\n",
    "| Function | Description |\n",
    "| :--- | :--- |\n",
    "| `numpy.array(a)` | Create NumPy array from sequence `a` |\n",
    "| `numpy.linspace(a,b,N)` | Create NumPy array with `N` equally spaced from `a` to `b` (inclusively)|\n",
    "| `numpy.arange(a,b,step)` | Create NumPy array with values from `a` to `b` (exclusively) incremented by `step`|\n",
    "| `numpy.random.rand(d1,...,dn)` | Create a NumPy array (with shape `(d1,...,dn)`) with entries sampled uniformly from `[0,1)` |\n",
    "| `numpy.random.randn(d1,...,dn)` | Create a NumPy array (with shape `(d1,...,dn)`) with entries sampled from the standard normal distribution |\n",
    "| `numpy.random.randint(a,b,size))` | Create a NumPy array (with shape `size`) with integer entries from `low` (inclusive) to `high` (exclusive) |"
   ]
  },
  {
   "cell_type": "code",
   "execution_count": 34,
   "metadata": {},
   "outputs": [
    {
     "data": {
      "text/plain": [
       "array([ 0. ,  0.1,  0.2,  0.3,  0.4,  0.5,  0.6,  0.7,  0.8,  0.9])"
      ]
     },
     "execution_count": 34,
     "metadata": {},
     "output_type": "execute_result"
    }
   ],
   "source": [
    "np.arange(0,1,0.1)"
   ]
  },
  {
   "cell_type": "markdown",
   "metadata": {},
   "source": [
    "#### NumPy shape and resize\n",
    "\n",
    "We can access the [shape](https://docs.scipy.org/doc/numpy-dev/user/quickstart.html#shape-manipulation) of an array by the shape method:"
   ]
  },
  {
   "cell_type": "code",
   "execution_count": 35,
   "metadata": {},
   "outputs": [
    {
     "name": "stdout",
     "output_type": "stream",
     "text": [
      "[[9 6 4 1 8 4]\n",
      " [5 7 7 5 7 4]\n",
      " [5 4 9 8 8 8]\n",
      " [8 2 1 8 1 3]]\n"
     ]
    }
   ],
   "source": [
    "arr = np.random.randint(0,10,(4,6))\n",
    "print(arr)"
   ]
  },
  {
   "cell_type": "code",
   "execution_count": 36,
   "metadata": {},
   "outputs": [
    {
     "data": {
      "text/plain": [
       "(4, 6)"
      ]
     },
     "execution_count": 36,
     "metadata": {},
     "output_type": "execute_result"
    }
   ],
   "source": [
    "arr.shape"
   ]
  },
  {
   "cell_type": "markdown",
   "metadata": {},
   "source": [
    "And we can change an array's shape using the resize method:"
   ]
  },
  {
   "cell_type": "code",
   "execution_count": 37,
   "metadata": {},
   "outputs": [
    {
     "name": "stdout",
     "output_type": "stream",
     "text": [
      "[1 2 3 4 5 6 7 8 9]\n"
     ]
    }
   ],
   "source": [
    "arr = np.arange(1,10)\n",
    "print(arr)"
   ]
  },
  {
   "cell_type": "code",
   "execution_count": 38,
   "metadata": {},
   "outputs": [
    {
     "data": {
      "text/plain": [
       "(9,)"
      ]
     },
     "execution_count": 38,
     "metadata": {},
     "output_type": "execute_result"
    }
   ],
   "source": [
    "arr.shape"
   ]
  },
  {
   "cell_type": "code",
   "execution_count": 39,
   "metadata": {},
   "outputs": [
    {
     "name": "stdout",
     "output_type": "stream",
     "text": [
      "[[1 2 3]\n",
      " [4 5 6]\n",
      " [7 8 9]]\n"
     ]
    }
   ],
   "source": [
    "arr.resize(3,3)\n",
    "print(arr)"
   ]
  },
  {
   "cell_type": "markdown",
   "metadata": {},
   "source": [
    "#### NumPy array indexing and slicing\n",
    "\n",
    "We access entries and sub-arrays using bracket notation (and notice that arrays begin with index 0):"
   ]
  },
  {
   "cell_type": "code",
   "execution_count": 40,
   "metadata": {},
   "outputs": [
    {
     "name": "stdout",
     "output_type": "stream",
     "text": [
      "[[9 4 0 5 1 4 0 0]\n",
      " [4 8 9 3 0 8 4 4]\n",
      " [4 4 8 7 1 3 1 1]\n",
      " [7 2 0 8 6 4 3 9]\n",
      " [8 5 7 7 8 0 7 4]]\n"
     ]
    }
   ],
   "source": [
    "arr = np.random.randint(0,10,(5,8))\n",
    "print(arr)"
   ]
  },
  {
   "cell_type": "code",
   "execution_count": 41,
   "metadata": {},
   "outputs": [
    {
     "data": {
      "text/plain": [
       "1"
      ]
     },
     "execution_count": 41,
     "metadata": {},
     "output_type": "execute_result"
    }
   ],
   "source": [
    "arr[2,7]"
   ]
  },
  {
   "cell_type": "markdown",
   "metadata": {},
   "source": [
    "Select the first column:"
   ]
  },
  {
   "cell_type": "code",
   "execution_count": 42,
   "metadata": {},
   "outputs": [
    {
     "data": {
      "text/plain": [
       "array([9, 4, 4, 7, 8])"
      ]
     },
     "execution_count": 42,
     "metadata": {},
     "output_type": "execute_result"
    }
   ],
   "source": [
    "arr[:,0]"
   ]
  },
  {
   "cell_type": "markdown",
   "metadata": {},
   "source": [
    "Select the fifth row (at index 4):"
   ]
  },
  {
   "cell_type": "code",
   "execution_count": 43,
   "metadata": {},
   "outputs": [
    {
     "data": {
      "text/plain": [
       "array([8, 5, 7, 7, 8, 0, 7, 4])"
      ]
     },
     "execution_count": 43,
     "metadata": {},
     "output_type": "execute_result"
    }
   ],
   "source": [
    "arr[4,:]"
   ]
  },
  {
   "cell_type": "markdown",
   "metadata": {},
   "source": [
    "Select the subarray of rows at index 1 and 2, and columns at index 0 and 1:"
   ]
  },
  {
   "cell_type": "code",
   "execution_count": 44,
   "metadata": {},
   "outputs": [
    {
     "data": {
      "text/plain": [
       "array([[4, 8],\n",
       "       [4, 4]])"
      ]
     },
     "execution_count": 44,
     "metadata": {},
     "output_type": "execute_result"
    }
   ],
   "source": [
    "arr[1:3,0:2]"
   ]
  },
  {
   "cell_type": "markdown",
   "metadata": {},
   "source": [
    "#### NumPy universal functions\n",
    "\n",
    "NumPy [universal functions](https://docs.scipy.org/doc/numpy-dev/user/quickstart.html#universal-functions) are mathematical functions which operate elementwise on arrays and produce arrays as output. These functions are called using the dot notation: `numpy.cos`, `numpy.sin`, `numpy.exp`, ..."
   ]
  },
  {
   "cell_type": "code",
   "execution_count": 45,
   "metadata": {},
   "outputs": [
    {
     "name": "stdout",
     "output_type": "stream",
     "text": [
      "[ 0.    0.25  0.5   0.75  1.    1.25  1.5   1.75]\n"
     ]
    }
   ],
   "source": [
    "x = np.arange(0,2,0.25)\n",
    "print(x)"
   ]
  },
  {
   "cell_type": "code",
   "execution_count": 46,
   "metadata": {},
   "outputs": [
    {
     "data": {
      "text/plain": [
       "array([  0.00000000e+00,   1.00000000e+00,   1.22464680e-16,\n",
       "        -1.00000000e+00,  -2.44929360e-16,   1.00000000e+00,\n",
       "         3.67394040e-16,  -1.00000000e+00])"
      ]
     },
     "execution_count": 46,
     "metadata": {},
     "output_type": "execute_result"
    }
   ],
   "source": [
    "np.sin(2*np.pi*x)"
   ]
  },
  {
   "cell_type": "markdown",
   "metadata": {},
   "source": [
    "#### NumPy array operations\n",
    "\n",
    "[Array operations](https://docs.scipy.org/doc/numpy-dev/user/quickstart.html#basic-operations) are also performed elementwise. For example:"
   ]
  },
  {
   "cell_type": "code",
   "execution_count": 47,
   "metadata": {},
   "outputs": [
    {
     "data": {
      "text/plain": [
       "array([ 1,  4,  9, 16])"
      ]
     },
     "execution_count": 47,
     "metadata": {},
     "output_type": "execute_result"
    }
   ],
   "source": [
    "x = np.array([1,2,3,4])\n",
    "x**2"
   ]
  },
  {
   "cell_type": "markdown",
   "metadata": {},
   "source": [
    "Again, unlike other matrix language, array multiplication is performed elementwise:"
   ]
  },
  {
   "cell_type": "code",
   "execution_count": 48,
   "metadata": {},
   "outputs": [
    {
     "name": "stdout",
     "output_type": "stream",
     "text": [
      "[[1 5 6 4]\n",
      " [4 9 6 0]\n",
      " [2 8 4 5]]\n"
     ]
    }
   ],
   "source": [
    "A = np.random.randint(0,10,(3,4))\n",
    "print(A)"
   ]
  },
  {
   "cell_type": "code",
   "execution_count": 49,
   "metadata": {},
   "outputs": [
    {
     "data": {
      "text/plain": [
       "array([[ 1, 25, 36, 16],\n",
       "       [16, 81, 36,  0],\n",
       "       [ 4, 64, 16, 25]])"
      ]
     },
     "execution_count": 49,
     "metadata": {},
     "output_type": "execute_result"
    }
   ],
   "source": [
    "A*A"
   ]
  },
  {
   "cell_type": "markdown",
   "metadata": {},
   "source": [
    "New in Python 3, the symbol `@` computes matrix multiplication for NumPy arrays:"
   ]
  },
  {
   "cell_type": "code",
   "execution_count": 50,
   "metadata": {},
   "outputs": [
    {
     "name": "stdout",
     "output_type": "stream",
     "text": [
      "[[1 1]\n",
      " [2 3]]\n"
     ]
    }
   ],
   "source": [
    "A = np.array([[1,1],[2,3]])\n",
    "print(A)"
   ]
  },
  {
   "cell_type": "code",
   "execution_count": 51,
   "metadata": {},
   "outputs": [
    {
     "data": {
      "text/plain": [
       "array([[ 3,  4],\n",
       "       [ 8, 11]])"
      ]
     },
     "execution_count": 51,
     "metadata": {},
     "output_type": "execute_result"
    }
   ],
   "source": [
    "A @ A"
   ]
  },
  {
   "cell_type": "markdown",
   "metadata": {},
   "source": [
    "#### Basic plotting\n",
    "\n",
    "[Matplotlib plotting commands](http://matplotlib.org/api/pyplot_summary.html) are called using `matplotlib.pyplot` (usually imported under the alias `plt`). The main command is simply `plt.plot`. For example:"
   ]
  },
  {
   "cell_type": "code",
   "execution_count": 52,
   "metadata": {},
   "outputs": [
    {
     "data": {
      "text/plain": [
       "[<matplotlib.lines.Line2D at 0x7fbb346d08d0>]"
      ]
     },
     "execution_count": 52,
     "metadata": {},
     "output_type": "execute_result"
    },
    {
     "data": {
      "image/png": "[encoded data removed]",
      "text/plain": [
       "<matplotlib.figure.Figure at 0x7fbb5405e588>"
      ]
     },
     "metadata": {},
     "output_type": "display_data"
    }
   ],
   "source": [
    "x = np.linspace(0,6,200)\n",
    "y = np.sin(2*np.pi*x)\n",
    "plt.plot(x,y)"
   ]
  },
  {
   "cell_type": "markdown",
   "metadata": {},
   "source": [
    "### Exercise: Parametric plots\n",
    "\n",
    "Write a function called `parametric_plots` which takes input parameters `a` and `k` and plots the parametric equation\n",
    "\n",
    "\\begin{align*}\n",
    "x(t) &= 2 k \\cos(t) - a \\cos(k t) \\\\\n",
    "y(t) &= 2 k \\sin(t) - a \\sin(k t)\n",
    "\\end{align*}\n",
    "\n",
    "for $t \\in [0,2\\pi]$. Include a title for each subplot to display the values for $a$ and $k$, and use `plt.axis('equal')` to display the curve properly. "
   ]
  },
  {
   "cell_type": "code",
   "execution_count": 53,
   "metadata": {
    "collapsed": true
   },
   "outputs": [],
   "source": [
    "def parametric_plot(a,k):\n",
    "    t = np.linspace(0,2*np.pi,1000)\n",
    "    x = 2*k*np.cos(t) - a*np.cos(k*t)\n",
    "    y = 2*k*np.sin(t) - a*np.sin(k*t)\n",
    "    plt.plot(x,y)\n",
    "    plt.axis('equal')\n",
    "    plt.axis('off')\n",
    "    plt.show()"
   ]
  },
  {
   "cell_type": "code",
   "execution_count": 54,
   "metadata": {},
   "outputs": [
    {
     "data": {
      "image/png": "[encoded data removed]",
      "text/plain": [
       "<matplotlib.figure.Figure at 0x7fbb355b1ba8>"
      ]
     },
     "metadata": {},
     "output_type": "display_data"
    },
    {
     "data": {
      "image/png": "[encoded data removed]",
      "text/plain": [
       "<matplotlib.figure.Figure at 0x7fbb540844a8>"
      ]
     },
     "metadata": {},
     "output_type": "display_data"
    },
    {
     "data": {
      "image/png": "[encoded data removed]",
      "text/plain": [
       "<matplotlib.figure.Figure at 0x7fbb35ee7e10>"
      ]
     },
     "metadata": {},
     "output_type": "display_data"
    }
   ],
   "source": [
    "parametric_plot(16,11); parametric_plot(6,5); parametric_plot(9,3)"
   ]
  },
  {
   "cell_type": "markdown",
   "metadata": {},
   "source": [
    "### SciPy\n",
    "\n",
    "[SciPy](https://scipy.org) is a library containing packages for numerical integration, linear algebra, signal processing, and more. Check out the [SciPy tutorial](https://docs.scipy.org/doc/scipy/reference/#tutorial).\n",
    "\n",
    "Let's look at the `quad` function in the [`scipy.integrate`](https://docs.scipy.org/doc/scipy/reference/integrate.html) module:"
   ]
  },
  {
   "cell_type": "code",
   "execution_count": 55,
   "metadata": {
    "collapsed": true
   },
   "outputs": [],
   "source": [
    "import scipy.integrate as spi"
   ]
  },
  {
   "cell_type": "markdown",
   "metadata": {},
   "source": [
    "Use the question mark `?` to see the documentation:"
   ]
  },
  {
   "cell_type": "code",
   "execution_count": 56,
   "metadata": {
    "collapsed": true
   },
   "outputs": [],
   "source": [
    "spi.quad?"
   ]
  },
  {
   "cell_type": "markdown",
   "metadata": {},
   "source": [
    "Let's plot the Gaussian $e^{-x^2}$ and verify the formula\n",
    "\n",
    "$$\n",
    "\\int_{-\\infty}^{\\infty} e^{-x^2} = \\sqrt{\\pi}\n",
    "$$"
   ]
  },
  {
   "cell_type": "code",
   "execution_count": 57,
   "metadata": {},
   "outputs": [
    {
     "data": {
      "text/plain": [
       "[<matplotlib.lines.Line2D at 0x7fbb6832a710>]"
      ]
     },
     "execution_count": 57,
     "metadata": {},
     "output_type": "execute_result"
    },
    {
     "data": {
      "image/png": "[encoded data removed]",
      "text/plain": [
       "<matplotlib.figure.Figure at 0x7fbb333f7940>"
      ]
     },
     "metadata": {},
     "output_type": "display_data"
    }
   ],
   "source": [
    "x = np.linspace(-3,3,1000)\n",
    "y = np.exp(-x**2)\n",
    "plt.plot(x,y)"
   ]
  },
  {
   "cell_type": "code",
   "execution_count": 58,
   "metadata": {},
   "outputs": [
    {
     "name": "stdout",
     "output_type": "stream",
     "text": [
      "1.7724538509055159\n"
     ]
    }
   ],
   "source": [
    "I, err = spi.quad(lambda x: np.exp(-x**2),-np.inf,np.inf)\n",
    "print(I)"
   ]
  },
  {
   "cell_type": "code",
   "execution_count": 59,
   "metadata": {},
   "outputs": [
    {
     "data": {
      "text/plain": [
       "1.7724538509055159"
      ]
     },
     "execution_count": 59,
     "metadata": {},
     "output_type": "execute_result"
    }
   ],
   "source": [
    "np.pi**0.5"
   ]
  },
  {
   "cell_type": "markdown",
   "metadata": {},
   "source": [
    "### Exercise: Logistic equation\n",
    "\n",
    "Let's plot numerical solutions of the logistic equation $y' = y(1-y)$ for different initial conditions $y(0)$."
   ]
  },
  {
   "cell_type": "code",
   "execution_count": 60,
   "metadata": {},
   "outputs": [
    {
     "data": {
      "image/png": "[encoded data removed]",
      "text/plain": [
       "<matplotlib.figure.Figure at 0x7fbb6828ecc0>"
      ]
     },
     "metadata": {},
     "output_type": "display_data"
    }
   ],
   "source": [
    "def odefun(y,t):\n",
    "    return y*(1-y)\n",
    "\n",
    "t = np.linspace(0,1,100)\n",
    "\n",
    "for y0 in np.arange(-0.4,3,0.2):\n",
    "    y = spi.odeint(odefun,y0,t)\n",
    "    plt.plot(t,y,'b')"
   ]
  }
 ],
 "metadata": {
  "kernelspec": {
   "display_name": "Python 3",
   "language": "python",
   "name": "python3"
  },
  "language_info": {
   "codemirror_mode": {
    "name": "ipython",
    "version": 3
   },
   "file_extension": ".py",
   "mimetype": "text/x-python",
   "name": "python",
   "nbconvert_exporter": "python",
   "pygments_lexer": "ipython3",
   "version": "3.7.3"
  }
 },
 "nbformat": 4,
 "nbformat_minor": 2
}
